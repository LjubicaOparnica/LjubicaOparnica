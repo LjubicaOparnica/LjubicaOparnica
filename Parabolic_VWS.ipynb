{
  "nbformat": 4,
  "nbformat_minor": 0,
  "metadata": {
    "colab": {
      "provenance": [],
      "include_colab_link": true
    },
    "kernelspec": {
      "name": "python3",
      "display_name": "Python 3"
    },
    "language_info": {
      "name": "python"
    }
  },
  "cells": [
    {
      "cell_type": "markdown",
      "metadata": {
        "id": "view-in-github",
        "colab_type": "text"
      },
      "source": [
        "<a href=\"https://colab.research.google.com/github/LjubicaOparnica/LjubicaOparnica/blob/main/Parabolic_VWS.ipynb\" target=\"_parent\"><img src=\"https://colab.research.google.com/assets/colab-badge.svg\" alt=\"Open In Colab\"/></a>"
      ]
    },
    {
      "cell_type": "code",
      "execution_count": null,
      "metadata": {
        "id": "KrKXeCu73EuF"
      },
      "outputs": [],
      "source": []
    },
    {
      "cell_type": "markdown",
      "source": [
        "Consider the equation $$\\nabla f(x)$$"
      ],
      "metadata": {
        "id": "YUDsmiUy3VNW"
      }
    },
    {
      "cell_type": "code",
      "source": [
        "import numpy as np\n",
        "import matplotlib.pyplot as plt\n",
        "\n",
        "mu = 1\n",
        "n = 50\n",
        "dt = 0.1\n",
        "x0 = 100\n",
        "np.random.seed(1)\n",
        "\n",
        "sigma = np.arange(0.8, 2, 0.2)\n",
        "\n",
        "x = np.exp(\n",
        "    (mu - sigma ** 2 / 2) * dt\n",
        "    + sigma * np.random.normal(0, np.sqrt(dt), size=(len(sigma), n)).T\n",
        ")\n",
        "x = np.vstack([np.ones(len(sigma)), x])\n",
        "x = x0 * x.cumprod(axis=0)\n",
        "\n",
        "plt.plot(x)\n",
        "plt.legend(np.round(sigma, 2))\n",
        "plt.xlabel(\"$t$\")\n",
        "plt.ylabel(\"$x$\")\n",
        "plt.title(\n",
        "    \"Realizations of Geometric Brownian Motion with different variances\\n $\\mu=1$\"\n",
        ")\n",
        "plt.show()"
      ],
      "metadata": {
        "id": "gSo25XJz3hf7"
      },
      "execution_count": null,
      "outputs": []
    },
    {
      "cell_type": "markdown",
      "source": [],
      "metadata": {
        "id": "MvXWtO433pCg"
      }
    },
    {
      "cell_type": "code",
      "source": [],
      "metadata": {
        "id": "Q9FWhuUy3pdV"
      },
      "execution_count": null,
      "outputs": []
    }
  ]
}